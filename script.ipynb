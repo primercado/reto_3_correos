{
 "cells": [
  {
   "cell_type": "code",
   "execution_count": 20,
   "id": "27b10353",
   "metadata": {},
   "outputs": [],
   "source": [
    "# Importo las librerías con las cuales vamos a trabajar\n",
    "import pandas as pd\n",
    "import smtplib\n",
    "from email.message import EmailMessage"
   ]
  },
  {
   "cell_type": "code",
   "execution_count": 5,
   "id": "49f5f2e5",
   "metadata": {},
   "outputs": [],
   "source": [
    "# Creamos un archivo .csv con algunos datos de ejemplos.\n",
    "# Para ello guardamos los datos en un diccionario de python y creamos el dataframe con pandas.\n",
    "# Datos a incluir en el archivo CSV\n",
    "datos = {\n",
    "    'nombre y apellido': ['pablo mercado', 'micaela mercado', 'hernandez romina'],\n",
    "    'puesto': ['prosecretario', 'contadora', 'bibliotecaria'],\n",
    "    'área': ['Familia 1', 'Cramazzi s.a.', 'biblioteca guemes'],\n",
    "    'cumpleaños': ['17/04/90', '05/08/94', '21/11/87'],\n",
    "    'correo': ['primercado90@gmail.com', 'mica_merk77@gmail.com', 'romyhernandez_87@hotmail.com'],\n",
    "    'telefono': ['3644-348620', '3644-348625', '3644-688643']\n",
    "}\n",
    "\n",
    "# Crear un DataFrame con pandas\n",
    "\n",
    "df = pd.DataFrame(datos)\n",
    "\n",
    "# Guardamos los datos en un archivo .csv\n",
    "\n",
    "df.to_csv('datos.csv', index=False)"
   ]
  },
  {
   "cell_type": "code",
   "execution_count": 6,
   "id": "903eaefd",
   "metadata": {},
   "outputs": [
    {
     "data": {
      "text/html": [
       "<div>\n",
       "<style scoped>\n",
       "    .dataframe tbody tr th:only-of-type {\n",
       "        vertical-align: middle;\n",
       "    }\n",
       "\n",
       "    .dataframe tbody tr th {\n",
       "        vertical-align: top;\n",
       "    }\n",
       "\n",
       "    .dataframe thead th {\n",
       "        text-align: right;\n",
       "    }\n",
       "</style>\n",
       "<table border=\"1\" class=\"dataframe\">\n",
       "  <thead>\n",
       "    <tr style=\"text-align: right;\">\n",
       "      <th></th>\n",
       "      <th>nombre y apellido</th>\n",
       "      <th>puesto</th>\n",
       "      <th>área</th>\n",
       "      <th>cumpleaños</th>\n",
       "      <th>correo</th>\n",
       "      <th>telefono</th>\n",
       "    </tr>\n",
       "  </thead>\n",
       "  <tbody>\n",
       "    <tr>\n",
       "      <th>0</th>\n",
       "      <td>pablo mercado</td>\n",
       "      <td>prosecretario</td>\n",
       "      <td>Familia 1</td>\n",
       "      <td>17/04/90</td>\n",
       "      <td>primercado90@gmail.com</td>\n",
       "      <td>3644-348620</td>\n",
       "    </tr>\n",
       "    <tr>\n",
       "      <th>1</th>\n",
       "      <td>micaela mercado</td>\n",
       "      <td>contadora</td>\n",
       "      <td>Cramazzi s.a.</td>\n",
       "      <td>05/08/94</td>\n",
       "      <td>mica_merk77@gmail.com</td>\n",
       "      <td>3644-348625</td>\n",
       "    </tr>\n",
       "    <tr>\n",
       "      <th>2</th>\n",
       "      <td>hernandez romina</td>\n",
       "      <td>bibliotecaria</td>\n",
       "      <td>biblioteca guemes</td>\n",
       "      <td>21/11/87</td>\n",
       "      <td>romyhernandez_87@hotmail.com</td>\n",
       "      <td>3644-688643</td>\n",
       "    </tr>\n",
       "  </tbody>\n",
       "</table>\n",
       "</div>"
      ],
      "text/plain": [
       "  nombre y apellido         puesto               área cumpleaños  \\\n",
       "0     pablo mercado  prosecretario          Familia 1   17/04/90   \n",
       "1   micaela mercado      contadora      Cramazzi s.a.   05/08/94   \n",
       "2  hernandez romina  bibliotecaria  biblioteca guemes   21/11/87   \n",
       "\n",
       "                         correo     telefono  \n",
       "0        primercado90@gmail.com  3644-348620  \n",
       "1         mica_merk77@gmail.com  3644-348625  \n",
       "2  romyhernandez_87@hotmail.com  3644-688643  "
      ]
     },
     "execution_count": 6,
     "metadata": {},
     "output_type": "execute_result"
    }
   ],
   "source": [
    "# Leelos el archivo y lo imprimimos\n",
    "\n",
    "datos = pd.read_csv('datos.csv')\n",
    "\n",
    "datos\n",
    "\n",
    "\n",
    "\n"
   ]
  },
  {
   "cell_type": "code",
   "execution_count": 24,
   "id": "0b5f1997",
   "metadata": {},
   "outputs": [],
   "source": [
    "# Enviamos correo electrónico para ello usamos smtplib\n",
    "\n",
    "# Configuramos los parámetros\n",
    "\n",
    "remitente = 'mercado.isaacpablor@gmail.com'\n",
    "password = 'kzvtdaxxsgalaaum'\n",
    "asunto = 'feliz semana'\n",
    "cuerpo = 'Espero que tengas una hermosa semana, recuerda que siempre podes contar con nos para lo que creas necesario. Esta empresa y yo personamente, estoy muy agradecido por tu trabajo y todo el esfuerzo que realizas cada día. Siempre queremos vvalorar eso y hacertelo saber. Te mando un abrazo y espero tenga una jornada increible! Se te quiere.'"
   ]
  },
  {
   "cell_type": "code",
   "execution_count": 25,
   "id": "53df9342",
   "metadata": {},
   "outputs": [],
   "source": [
    "# Recorrer el DataFrame y enviar un correo electrónico a cada destinatario\n",
    "for i, fila in datos.iterrows():\n",
    "    destinatario = fila['correo']\n",
    "    mensaje = EmailMessage()\n",
    "    mensaje['From'] = remitente\n",
    "    mensaje['To'] = destinatario\n",
    "    mensaje['Subject'] = asunto\n",
    "    mensaje.set_content(cuerpo)\n",
    "    \n",
    "    # Enviar el correo electrónico utilizando SMTP\n",
    "    with smtplib.SMTP_SSL('smtp.gmail.com', 465) as smtp:\n",
    "        smtp.login(remitente, password)\n",
    "        smtp.send_message(mensaje)"
   ]
  },
  {
   "cell_type": "code",
   "execution_count": null,
   "id": "a95a032c",
   "metadata": {},
   "outputs": [],
   "source": []
  },
  {
   "cell_type": "code",
   "execution_count": null,
   "id": "34b748e0",
   "metadata": {},
   "outputs": [],
   "source": []
  },
  {
   "cell_type": "code",
   "execution_count": null,
   "id": "00ccb127",
   "metadata": {},
   "outputs": [],
   "source": []
  },
  {
   "cell_type": "code",
   "execution_count": null,
   "id": "37fbca7a",
   "metadata": {},
   "outputs": [],
   "source": []
  }
 ],
 "metadata": {
  "kernelspec": {
   "display_name": "Python 3 (ipykernel)",
   "language": "python",
   "name": "python3"
  },
  "language_info": {
   "codemirror_mode": {
    "name": "ipython",
    "version": 3
   },
   "file_extension": ".py",
   "mimetype": "text/x-python",
   "name": "python",
   "nbconvert_exporter": "python",
   "pygments_lexer": "ipython3",
   "version": "3.10.6"
  }
 },
 "nbformat": 4,
 "nbformat_minor": 5
}
